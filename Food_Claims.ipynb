{
  "nbformat": 4,
  "nbformat_minor": 0,
  "metadata": {
    "colab": {
      "provenance": [],
      "toc_visible": true,
      "authorship_tag": "ABX9TyMOTpt9ylE5ysqF7Ck7HIAw",
      "include_colab_link": true
    },
    "kernelspec": {
      "name": "python3",
      "display_name": "Python 3"
    },
    "language_info": {
      "name": "python"
    }
  },
  "cells": [
    {
      "cell_type": "markdown",
      "metadata": {
        "id": "view-in-github",
        "colab_type": "text"
      },
      "source": [
        "<a href=\"https://colab.research.google.com/github/yulianthyho/DataCamp-Data-Analyst-Associate-Certificate/blob/main/Food_Claims.ipynb\" target=\"_parent\"><img src=\"https://colab.research.google.com/assets/colab-badge.svg\" alt=\"Open In Colab\"/></a>"
      ]
    },
    {
      "cell_type": "markdown",
      "source": [
        "# DataCamp Data Analyst Associate Certificate\n",
        "**Case Study Project - Food Claims**\n",
        "\n",
        "by Yulianthy Ho"
      ],
      "metadata": {
        "id": "iZ7Uh5iRAUGT"
      }
    },
    {
      "cell_type": "markdown",
      "source": [
        "**Company Background**\n",
        "\n",
        "Vivendo is a fast food chain in Brazil with over 200 outlets. As with many fast food establishments, customers make claims against the company. For example, they blame Vivendo for suspected food poisoning.\n",
        "The legal team, who processes these claims, is currently split across four locations. The new head of the legal department wants to see if there are differences in the time it takes to close claims across the locations.\n",
        "\n",
        "**Customer Question**\n",
        "\n",
        "The legal team has given you a data set where each row is a claim made against the company. They would like you to answer the following questions:\n",
        "\n",
        "● How does the number of claims differ across locations?\n",
        "\n",
        "● What is the distribution of time to close claims?\n",
        "\n",
        "● How does the average time to close claims differ by location?"
      ],
      "metadata": {
        "id": "QkRV7F-zAVrh"
      }
    },
    {
      "cell_type": "markdown",
      "source": [
        "# Import Library"
      ],
      "metadata": {
        "id": "kN5F7E0dBBnD"
      }
    },
    {
      "cell_type": "code",
      "source": [
        "# import library\n",
        "import pandas as pd\n",
        "import numpy as np\n",
        "import matplotlib.pyplot as plt\n",
        "import seaborn as sns\n",
        "from datetime import datetime\n",
        "from datetime import timedelta\n"
      ],
      "metadata": {
        "id": "ys6AogkOBFns"
      },
      "execution_count": null,
      "outputs": []
    },
    {
      "cell_type": "markdown",
      "source": [
        "# Load The Dataset"
      ],
      "metadata": {
        "id": "KgCQhOCnBIW8"
      }
    },
    {
      "cell_type": "code",
      "source": [
        "url_1 = 'https://docs.google.com/spreadsheets/d/12I8RsnITvL7vsOE10fXbBzr8IvK4NZQi/edit#gid=447849532'\n",
        "url_sheet_trf_1 = url_1.replace('/edit#gid=', '/export?format=xlsx&gid=')\n",
        "\n",
        "# load the dataset\n",
        "df = pd.read_excel(url_sheet_trf_1)\n",
        "pd.set_option('display.max.columns',None)\n",
        "# get the overview of the dataset\n",
        "df.head()"
      ],
      "metadata": {
        "colab": {
          "base_uri": "https://localhost:8080/",
          "height": 206
        },
        "id": "_KBe3I4wBLMy",
        "outputId": "1fc42b23-dab5-4e00-b117-0ce25a2a188d"
      },
      "execution_count": null,
      "outputs": [
        {
          "output_type": "execute_result",
          "data": {
            "text/plain": [
              "                    Claim ID  Time to Close  Claim Amount  Amount Paid  \\\n",
              "0  0000000-00.2010.0.00.0094         2082.0   R$50,000.00     34297.47   \n",
              "1  0000000-00.2011.0.00.0086         3591.0  R$180,000.00     56383.54   \n",
              "2  0000000-00.2012.0.00.0092         2997.0   R$70,000.00     12366.76   \n",
              "3  0000000-00.2013.0.00.0096         1143.0   R$95,104.00     29217.16   \n",
              "4  0000000-00.2014.0.00.0097          117.0   R$29,000.00     12610.50   \n",
              "\n",
              "    Location  Individuals on Claim  Linked Cases       Cause  \n",
              "0     RECIFE                   2.0         False         NaN  \n",
              "1   SAO LUIS                   7.0         False         NaN  \n",
              "2   SAO LUIS                   3.0         False  vegetables  \n",
              "3  FORTALEZA                   4.0         False         NaN  \n",
              "4  FORTALEZA                   1.0         False        meat  "
            ],
            "text/html": [
              "\n",
              "  <div id=\"df-342cd68a-812a-4620-92dd-3404b19508d6\">\n",
              "    <div class=\"colab-df-container\">\n",
              "      <div>\n",
              "<style scoped>\n",
              "    .dataframe tbody tr th:only-of-type {\n",
              "        vertical-align: middle;\n",
              "    }\n",
              "\n",
              "    .dataframe tbody tr th {\n",
              "        vertical-align: top;\n",
              "    }\n",
              "\n",
              "    .dataframe thead th {\n",
              "        text-align: right;\n",
              "    }\n",
              "</style>\n",
              "<table border=\"1\" class=\"dataframe\">\n",
              "  <thead>\n",
              "    <tr style=\"text-align: right;\">\n",
              "      <th></th>\n",
              "      <th>Claim ID</th>\n",
              "      <th>Time to Close</th>\n",
              "      <th>Claim Amount</th>\n",
              "      <th>Amount Paid</th>\n",
              "      <th>Location</th>\n",
              "      <th>Individuals on Claim</th>\n",
              "      <th>Linked Cases</th>\n",
              "      <th>Cause</th>\n",
              "    </tr>\n",
              "  </thead>\n",
              "  <tbody>\n",
              "    <tr>\n",
              "      <th>0</th>\n",
              "      <td>0000000-00.2010.0.00.0094</td>\n",
              "      <td>2082.0</td>\n",
              "      <td>R$50,000.00</td>\n",
              "      <td>34297.47</td>\n",
              "      <td>RECIFE</td>\n",
              "      <td>2.0</td>\n",
              "      <td>False</td>\n",
              "      <td>NaN</td>\n",
              "    </tr>\n",
              "    <tr>\n",
              "      <th>1</th>\n",
              "      <td>0000000-00.2011.0.00.0086</td>\n",
              "      <td>3591.0</td>\n",
              "      <td>R$180,000.00</td>\n",
              "      <td>56383.54</td>\n",
              "      <td>SAO LUIS</td>\n",
              "      <td>7.0</td>\n",
              "      <td>False</td>\n",
              "      <td>NaN</td>\n",
              "    </tr>\n",
              "    <tr>\n",
              "      <th>2</th>\n",
              "      <td>0000000-00.2012.0.00.0092</td>\n",
              "      <td>2997.0</td>\n",
              "      <td>R$70,000.00</td>\n",
              "      <td>12366.76</td>\n",
              "      <td>SAO LUIS</td>\n",
              "      <td>3.0</td>\n",
              "      <td>False</td>\n",
              "      <td>vegetables</td>\n",
              "    </tr>\n",
              "    <tr>\n",
              "      <th>3</th>\n",
              "      <td>0000000-00.2013.0.00.0096</td>\n",
              "      <td>1143.0</td>\n",
              "      <td>R$95,104.00</td>\n",
              "      <td>29217.16</td>\n",
              "      <td>FORTALEZA</td>\n",
              "      <td>4.0</td>\n",
              "      <td>False</td>\n",
              "      <td>NaN</td>\n",
              "    </tr>\n",
              "    <tr>\n",
              "      <th>4</th>\n",
              "      <td>0000000-00.2014.0.00.0097</td>\n",
              "      <td>117.0</td>\n",
              "      <td>R$29,000.00</td>\n",
              "      <td>12610.50</td>\n",
              "      <td>FORTALEZA</td>\n",
              "      <td>1.0</td>\n",
              "      <td>False</td>\n",
              "      <td>meat</td>\n",
              "    </tr>\n",
              "  </tbody>\n",
              "</table>\n",
              "</div>\n",
              "      <button class=\"colab-df-convert\" onclick=\"convertToInteractive('df-342cd68a-812a-4620-92dd-3404b19508d6')\"\n",
              "              title=\"Convert this dataframe to an interactive table.\"\n",
              "              style=\"display:none;\">\n",
              "        \n",
              "  <svg xmlns=\"http://www.w3.org/2000/svg\" height=\"24px\"viewBox=\"0 0 24 24\"\n",
              "       width=\"24px\">\n",
              "    <path d=\"M0 0h24v24H0V0z\" fill=\"none\"/>\n",
              "    <path d=\"M18.56 5.44l.94 2.06.94-2.06 2.06-.94-2.06-.94-.94-2.06-.94 2.06-2.06.94zm-11 1L8.5 8.5l.94-2.06 2.06-.94-2.06-.94L8.5 2.5l-.94 2.06-2.06.94zm10 10l.94 2.06.94-2.06 2.06-.94-2.06-.94-.94-2.06-.94 2.06-2.06.94z\"/><path d=\"M17.41 7.96l-1.37-1.37c-.4-.4-.92-.59-1.43-.59-.52 0-1.04.2-1.43.59L10.3 9.45l-7.72 7.72c-.78.78-.78 2.05 0 2.83L4 21.41c.39.39.9.59 1.41.59.51 0 1.02-.2 1.41-.59l7.78-7.78 2.81-2.81c.8-.78.8-2.07 0-2.86zM5.41 20L4 18.59l7.72-7.72 1.47 1.35L5.41 20z\"/>\n",
              "  </svg>\n",
              "      </button>\n",
              "      \n",
              "  <style>\n",
              "    .colab-df-container {\n",
              "      display:flex;\n",
              "      flex-wrap:wrap;\n",
              "      gap: 12px;\n",
              "    }\n",
              "\n",
              "    .colab-df-convert {\n",
              "      background-color: #E8F0FE;\n",
              "      border: none;\n",
              "      border-radius: 50%;\n",
              "      cursor: pointer;\n",
              "      display: none;\n",
              "      fill: #1967D2;\n",
              "      height: 32px;\n",
              "      padding: 0 0 0 0;\n",
              "      width: 32px;\n",
              "    }\n",
              "\n",
              "    .colab-df-convert:hover {\n",
              "      background-color: #E2EBFA;\n",
              "      box-shadow: 0px 1px 2px rgba(60, 64, 67, 0.3), 0px 1px 3px 1px rgba(60, 64, 67, 0.15);\n",
              "      fill: #174EA6;\n",
              "    }\n",
              "\n",
              "    [theme=dark] .colab-df-convert {\n",
              "      background-color: #3B4455;\n",
              "      fill: #D2E3FC;\n",
              "    }\n",
              "\n",
              "    [theme=dark] .colab-df-convert:hover {\n",
              "      background-color: #434B5C;\n",
              "      box-shadow: 0px 1px 3px 1px rgba(0, 0, 0, 0.15);\n",
              "      filter: drop-shadow(0px 1px 2px rgba(0, 0, 0, 0.3));\n",
              "      fill: #FFFFFF;\n",
              "    }\n",
              "  </style>\n",
              "\n",
              "      <script>\n",
              "        const buttonEl =\n",
              "          document.querySelector('#df-342cd68a-812a-4620-92dd-3404b19508d6 button.colab-df-convert');\n",
              "        buttonEl.style.display =\n",
              "          google.colab.kernel.accessAllowed ? 'block' : 'none';\n",
              "\n",
              "        async function convertToInteractive(key) {\n",
              "          const element = document.querySelector('#df-342cd68a-812a-4620-92dd-3404b19508d6');\n",
              "          const dataTable =\n",
              "            await google.colab.kernel.invokeFunction('convertToInteractive',\n",
              "                                                     [key], {});\n",
              "          if (!dataTable) return;\n",
              "\n",
              "          const docLinkHtml = 'Like what you see? Visit the ' +\n",
              "            '<a target=\"_blank\" href=https://colab.research.google.com/notebooks/data_table.ipynb>data table notebook</a>'\n",
              "            + ' to learn more about interactive tables.';\n",
              "          element.innerHTML = '';\n",
              "          dataTable['output_type'] = 'display_data';\n",
              "          await google.colab.output.renderOutput(dataTable, element);\n",
              "          const docLink = document.createElement('div');\n",
              "          docLink.innerHTML = docLinkHtml;\n",
              "          element.appendChild(docLink);\n",
              "        }\n",
              "      </script>\n",
              "    </div>\n",
              "  </div>\n",
              "  "
            ]
          },
          "metadata": {},
          "execution_count": 81
        }
      ]
    },
    {
      "cell_type": "code",
      "source": [
        "df.info()"
      ],
      "metadata": {
        "colab": {
          "base_uri": "https://localhost:8080/"
        },
        "id": "ic8ll-9_GjHu",
        "outputId": "0935e3a9-17fb-4c34-8f76-b3ff6755bf79"
      },
      "execution_count": null,
      "outputs": [
        {
          "output_type": "stream",
          "name": "stdout",
          "text": [
            "<class 'pandas.core.frame.DataFrame'>\n",
            "RangeIndex: 98 entries, 0 to 97\n",
            "Data columns (total 8 columns):\n",
            " #   Column                Non-Null Count  Dtype  \n",
            "---  ------                --------------  -----  \n",
            " 0   Claim ID              98 non-null     object \n",
            " 1   Time to Close         98 non-null     float64\n",
            " 2   Claim Amount          98 non-null     object \n",
            " 3   Amount Paid           98 non-null     float64\n",
            " 4   Location              98 non-null     object \n",
            " 5   Individuals on Claim  98 non-null     float64\n",
            " 6   Linked Cases          98 non-null     bool   \n",
            " 7   Cause                 20 non-null     object \n",
            "dtypes: bool(1), float64(3), object(4)\n",
            "memory usage: 5.6+ KB\n"
          ]
        }
      ]
    },
    {
      "cell_type": "markdown",
      "source": [
        "# Data Cleaning"
      ],
      "metadata": {
        "id": "ONzIJRfDGx6t"
      }
    },
    {
      "cell_type": "code",
      "source": [
        "#change the data type\n",
        "df['Time to Close'] = df['Time to Close'].astype(int)\n",
        "df['Individuals on Claim'] = df['Individuals on Claim'].astype(int)"
      ],
      "metadata": {
        "id": "G4xRkfgnG0Y8"
      },
      "execution_count": null,
      "outputs": []
    },
    {
      "cell_type": "code",
      "source": [
        "#change claim amount to int, remove \"the R$ and ,\" in the columns\n",
        "df['Claim Amount'] = df['Claim Amount'].str.strip('R$')\n",
        "df['Claim Amount'] = pd.to_numeric(df['Claim Amount'].str.replace(',', ''))"
      ],
      "metadata": {
        "id": "O3BAZ5bMHZ9O"
      },
      "execution_count": null,
      "outputs": []
    },
    {
      "cell_type": "code",
      "source": [
        "#fill the NaN in causes with unknown\n",
        "df['Cause'].fillna('unknown', inplace=True)"
      ],
      "metadata": {
        "id": "hXgk-VARH9Lb"
      },
      "execution_count": null,
      "outputs": []
    },
    {
      "cell_type": "code",
      "source": [
        "#check unique location\n",
        "df['Location'].value_counts()"
      ],
      "metadata": {
        "colab": {
          "base_uri": "https://localhost:8080/"
        },
        "id": "THUdn7XAIpvU",
        "outputId": "85694e98-e818-4cb8-c0d9-b40c5d564687"
      },
      "execution_count": null,
      "outputs": [
        {
          "output_type": "execute_result",
          "data": {
            "text/plain": [
              "SAO LUIS     30\n",
              "RECIFE       25\n",
              "FORTALEZA    22\n",
              "NATAL        21\n",
              "Name: Location, dtype: int64"
            ]
          },
          "metadata": {},
          "execution_count": 86
        }
      ]
    },
    {
      "cell_type": "code",
      "source": [
        "#checking the missing value\n",
        "df.isna().sum()"
      ],
      "metadata": {
        "colab": {
          "base_uri": "https://localhost:8080/"
        },
        "id": "4G4-0cypNND-",
        "outputId": "f7672dab-f486-4a5d-98ba-2ea076f49f29"
      },
      "execution_count": null,
      "outputs": [
        {
          "output_type": "execute_result",
          "data": {
            "text/plain": [
              "Claim ID                0\n",
              "Time to Close           0\n",
              "Claim Amount            0\n",
              "Amount Paid             0\n",
              "Location                0\n",
              "Individuals on Claim    0\n",
              "Linked Cases            0\n",
              "Cause                   0\n",
              "dtype: int64"
            ]
          },
          "metadata": {},
          "execution_count": 87
        }
      ]
    },
    {
      "cell_type": "code",
      "source": [
        "df.info()"
      ],
      "metadata": {
        "colab": {
          "base_uri": "https://localhost:8080/"
        },
        "id": "SDh_P4EiIQwH",
        "outputId": "7c7097f9-1412-4166-a6d9-0d48376dddd1"
      },
      "execution_count": null,
      "outputs": [
        {
          "output_type": "stream",
          "name": "stdout",
          "text": [
            "<class 'pandas.core.frame.DataFrame'>\n",
            "RangeIndex: 98 entries, 0 to 97\n",
            "Data columns (total 8 columns):\n",
            " #   Column                Non-Null Count  Dtype  \n",
            "---  ------                --------------  -----  \n",
            " 0   Claim ID              98 non-null     object \n",
            " 1   Time to Close         98 non-null     int64  \n",
            " 2   Claim Amount          98 non-null     float64\n",
            " 3   Amount Paid           98 non-null     float64\n",
            " 4   Location              98 non-null     object \n",
            " 5   Individuals on Claim  98 non-null     int64  \n",
            " 6   Linked Cases          98 non-null     bool   \n",
            " 7   Cause                 98 non-null     object \n",
            "dtypes: bool(1), float64(2), int64(2), object(3)\n",
            "memory usage: 5.6+ KB\n"
          ]
        }
      ]
    },
    {
      "cell_type": "code",
      "source": [
        "df.head()"
      ],
      "metadata": {
        "colab": {
          "base_uri": "https://localhost:8080/",
          "height": 206
        },
        "id": "74VbxEl-IT09",
        "outputId": "e63b4402-92f6-41c7-e2c3-abe93793a9ef"
      },
      "execution_count": null,
      "outputs": [
        {
          "output_type": "execute_result",
          "data": {
            "text/plain": [
              "                    Claim ID  Time to Close  Claim Amount  Amount Paid  \\\n",
              "0  0000000-00.2010.0.00.0094           2082       50000.0     34297.47   \n",
              "1  0000000-00.2011.0.00.0086           3591      180000.0     56383.54   \n",
              "2  0000000-00.2012.0.00.0092           2997       70000.0     12366.76   \n",
              "3  0000000-00.2013.0.00.0096           1143       95104.0     29217.16   \n",
              "4  0000000-00.2014.0.00.0097            117       29000.0     12610.50   \n",
              "\n",
              "    Location  Individuals on Claim  Linked Cases       Cause  \n",
              "0     RECIFE                     2         False     unknown  \n",
              "1   SAO LUIS                     7         False     unknown  \n",
              "2   SAO LUIS                     3         False  vegetables  \n",
              "3  FORTALEZA                     4         False     unknown  \n",
              "4  FORTALEZA                     1         False        meat  "
            ],
            "text/html": [
              "\n",
              "  <div id=\"df-ec662d73-7ea9-48a3-893b-8d6a2f994fea\">\n",
              "    <div class=\"colab-df-container\">\n",
              "      <div>\n",
              "<style scoped>\n",
              "    .dataframe tbody tr th:only-of-type {\n",
              "        vertical-align: middle;\n",
              "    }\n",
              "\n",
              "    .dataframe tbody tr th {\n",
              "        vertical-align: top;\n",
              "    }\n",
              "\n",
              "    .dataframe thead th {\n",
              "        text-align: right;\n",
              "    }\n",
              "</style>\n",
              "<table border=\"1\" class=\"dataframe\">\n",
              "  <thead>\n",
              "    <tr style=\"text-align: right;\">\n",
              "      <th></th>\n",
              "      <th>Claim ID</th>\n",
              "      <th>Time to Close</th>\n",
              "      <th>Claim Amount</th>\n",
              "      <th>Amount Paid</th>\n",
              "      <th>Location</th>\n",
              "      <th>Individuals on Claim</th>\n",
              "      <th>Linked Cases</th>\n",
              "      <th>Cause</th>\n",
              "    </tr>\n",
              "  </thead>\n",
              "  <tbody>\n",
              "    <tr>\n",
              "      <th>0</th>\n",
              "      <td>0000000-00.2010.0.00.0094</td>\n",
              "      <td>2082</td>\n",
              "      <td>50000.0</td>\n",
              "      <td>34297.47</td>\n",
              "      <td>RECIFE</td>\n",
              "      <td>2</td>\n",
              "      <td>False</td>\n",
              "      <td>unknown</td>\n",
              "    </tr>\n",
              "    <tr>\n",
              "      <th>1</th>\n",
              "      <td>0000000-00.2011.0.00.0086</td>\n",
              "      <td>3591</td>\n",
              "      <td>180000.0</td>\n",
              "      <td>56383.54</td>\n",
              "      <td>SAO LUIS</td>\n",
              "      <td>7</td>\n",
              "      <td>False</td>\n",
              "      <td>unknown</td>\n",
              "    </tr>\n",
              "    <tr>\n",
              "      <th>2</th>\n",
              "      <td>0000000-00.2012.0.00.0092</td>\n",
              "      <td>2997</td>\n",
              "      <td>70000.0</td>\n",
              "      <td>12366.76</td>\n",
              "      <td>SAO LUIS</td>\n",
              "      <td>3</td>\n",
              "      <td>False</td>\n",
              "      <td>vegetables</td>\n",
              "    </tr>\n",
              "    <tr>\n",
              "      <th>3</th>\n",
              "      <td>0000000-00.2013.0.00.0096</td>\n",
              "      <td>1143</td>\n",
              "      <td>95104.0</td>\n",
              "      <td>29217.16</td>\n",
              "      <td>FORTALEZA</td>\n",
              "      <td>4</td>\n",
              "      <td>False</td>\n",
              "      <td>unknown</td>\n",
              "    </tr>\n",
              "    <tr>\n",
              "      <th>4</th>\n",
              "      <td>0000000-00.2014.0.00.0097</td>\n",
              "      <td>117</td>\n",
              "      <td>29000.0</td>\n",
              "      <td>12610.50</td>\n",
              "      <td>FORTALEZA</td>\n",
              "      <td>1</td>\n",
              "      <td>False</td>\n",
              "      <td>meat</td>\n",
              "    </tr>\n",
              "  </tbody>\n",
              "</table>\n",
              "</div>\n",
              "      <button class=\"colab-df-convert\" onclick=\"convertToInteractive('df-ec662d73-7ea9-48a3-893b-8d6a2f994fea')\"\n",
              "              title=\"Convert this dataframe to an interactive table.\"\n",
              "              style=\"display:none;\">\n",
              "        \n",
              "  <svg xmlns=\"http://www.w3.org/2000/svg\" height=\"24px\"viewBox=\"0 0 24 24\"\n",
              "       width=\"24px\">\n",
              "    <path d=\"M0 0h24v24H0V0z\" fill=\"none\"/>\n",
              "    <path d=\"M18.56 5.44l.94 2.06.94-2.06 2.06-.94-2.06-.94-.94-2.06-.94 2.06-2.06.94zm-11 1L8.5 8.5l.94-2.06 2.06-.94-2.06-.94L8.5 2.5l-.94 2.06-2.06.94zm10 10l.94 2.06.94-2.06 2.06-.94-2.06-.94-.94-2.06-.94 2.06-2.06.94z\"/><path d=\"M17.41 7.96l-1.37-1.37c-.4-.4-.92-.59-1.43-.59-.52 0-1.04.2-1.43.59L10.3 9.45l-7.72 7.72c-.78.78-.78 2.05 0 2.83L4 21.41c.39.39.9.59 1.41.59.51 0 1.02-.2 1.41-.59l7.78-7.78 2.81-2.81c.8-.78.8-2.07 0-2.86zM5.41 20L4 18.59l7.72-7.72 1.47 1.35L5.41 20z\"/>\n",
              "  </svg>\n",
              "      </button>\n",
              "      \n",
              "  <style>\n",
              "    .colab-df-container {\n",
              "      display:flex;\n",
              "      flex-wrap:wrap;\n",
              "      gap: 12px;\n",
              "    }\n",
              "\n",
              "    .colab-df-convert {\n",
              "      background-color: #E8F0FE;\n",
              "      border: none;\n",
              "      border-radius: 50%;\n",
              "      cursor: pointer;\n",
              "      display: none;\n",
              "      fill: #1967D2;\n",
              "      height: 32px;\n",
              "      padding: 0 0 0 0;\n",
              "      width: 32px;\n",
              "    }\n",
              "\n",
              "    .colab-df-convert:hover {\n",
              "      background-color: #E2EBFA;\n",
              "      box-shadow: 0px 1px 2px rgba(60, 64, 67, 0.3), 0px 1px 3px 1px rgba(60, 64, 67, 0.15);\n",
              "      fill: #174EA6;\n",
              "    }\n",
              "\n",
              "    [theme=dark] .colab-df-convert {\n",
              "      background-color: #3B4455;\n",
              "      fill: #D2E3FC;\n",
              "    }\n",
              "\n",
              "    [theme=dark] .colab-df-convert:hover {\n",
              "      background-color: #434B5C;\n",
              "      box-shadow: 0px 1px 3px 1px rgba(0, 0, 0, 0.15);\n",
              "      filter: drop-shadow(0px 1px 2px rgba(0, 0, 0, 0.3));\n",
              "      fill: #FFFFFF;\n",
              "    }\n",
              "  </style>\n",
              "\n",
              "      <script>\n",
              "        const buttonEl =\n",
              "          document.querySelector('#df-ec662d73-7ea9-48a3-893b-8d6a2f994fea button.colab-df-convert');\n",
              "        buttonEl.style.display =\n",
              "          google.colab.kernel.accessAllowed ? 'block' : 'none';\n",
              "\n",
              "        async function convertToInteractive(key) {\n",
              "          const element = document.querySelector('#df-ec662d73-7ea9-48a3-893b-8d6a2f994fea');\n",
              "          const dataTable =\n",
              "            await google.colab.kernel.invokeFunction('convertToInteractive',\n",
              "                                                     [key], {});\n",
              "          if (!dataTable) return;\n",
              "\n",
              "          const docLinkHtml = 'Like what you see? Visit the ' +\n",
              "            '<a target=\"_blank\" href=https://colab.research.google.com/notebooks/data_table.ipynb>data table notebook</a>'\n",
              "            + ' to learn more about interactive tables.';\n",
              "          element.innerHTML = '';\n",
              "          dataTable['output_type'] = 'display_data';\n",
              "          await google.colab.output.renderOutput(dataTable, element);\n",
              "          const docLink = document.createElement('div');\n",
              "          docLink.innerHTML = docLinkHtml;\n",
              "          element.appendChild(docLink);\n",
              "        }\n",
              "      </script>\n",
              "    </div>\n",
              "  </div>\n",
              "  "
            ]
          },
          "metadata": {},
          "execution_count": 89
        }
      ]
    },
    {
      "cell_type": "markdown",
      "source": [
        "# Exploratory Data Analysis (EDA) - Data Discovery and Visualization"
      ],
      "metadata": {
        "id": "STZZgxtcJSr1"
      }
    },
    {
      "cell_type": "code",
      "source": [
        "df.describe()"
      ],
      "metadata": {
        "colab": {
          "base_uri": "https://localhost:8080/",
          "height": 300
        },
        "id": "D_Z1BEXiN2sw",
        "outputId": "15a738bd-8533-43c8-d671-b0cac792a61a"
      },
      "execution_count": null,
      "outputs": [
        {
          "output_type": "execute_result",
          "data": {
            "text/plain": [
              "       Time to Close   Claim Amount    Amount Paid  Individuals on Claim\n",
              "count      98.000000      98.000000      98.000000             98.000000\n",
              "mean      833.510204  122952.030612   58448.238571              4.908163\n",
              "std       685.424441  166433.389040   87525.873849              7.292259\n",
              "min        29.000000    3555.000000     999.680000              0.000000\n",
              "25%       340.750000   40000.000000   15965.642500              1.000000\n",
              "50%       638.500000   58454.500000   29451.040000              2.000000\n",
              "75%      1138.750000  136573.250000   52114.760000              5.750000\n",
              "max      3591.000000  936540.000000  558725.770000             41.000000"
            ],
            "text/html": [
              "\n",
              "  <div id=\"df-3fb39de9-3f01-47f3-8ebb-d0ce8915a5d2\">\n",
              "    <div class=\"colab-df-container\">\n",
              "      <div>\n",
              "<style scoped>\n",
              "    .dataframe tbody tr th:only-of-type {\n",
              "        vertical-align: middle;\n",
              "    }\n",
              "\n",
              "    .dataframe tbody tr th {\n",
              "        vertical-align: top;\n",
              "    }\n",
              "\n",
              "    .dataframe thead th {\n",
              "        text-align: right;\n",
              "    }\n",
              "</style>\n",
              "<table border=\"1\" class=\"dataframe\">\n",
              "  <thead>\n",
              "    <tr style=\"text-align: right;\">\n",
              "      <th></th>\n",
              "      <th>Time to Close</th>\n",
              "      <th>Claim Amount</th>\n",
              "      <th>Amount Paid</th>\n",
              "      <th>Individuals on Claim</th>\n",
              "    </tr>\n",
              "  </thead>\n",
              "  <tbody>\n",
              "    <tr>\n",
              "      <th>count</th>\n",
              "      <td>98.000000</td>\n",
              "      <td>98.000000</td>\n",
              "      <td>98.000000</td>\n",
              "      <td>98.000000</td>\n",
              "    </tr>\n",
              "    <tr>\n",
              "      <th>mean</th>\n",
              "      <td>833.510204</td>\n",
              "      <td>122952.030612</td>\n",
              "      <td>58448.238571</td>\n",
              "      <td>4.908163</td>\n",
              "    </tr>\n",
              "    <tr>\n",
              "      <th>std</th>\n",
              "      <td>685.424441</td>\n",
              "      <td>166433.389040</td>\n",
              "      <td>87525.873849</td>\n",
              "      <td>7.292259</td>\n",
              "    </tr>\n",
              "    <tr>\n",
              "      <th>min</th>\n",
              "      <td>29.000000</td>\n",
              "      <td>3555.000000</td>\n",
              "      <td>999.680000</td>\n",
              "      <td>0.000000</td>\n",
              "    </tr>\n",
              "    <tr>\n",
              "      <th>25%</th>\n",
              "      <td>340.750000</td>\n",
              "      <td>40000.000000</td>\n",
              "      <td>15965.642500</td>\n",
              "      <td>1.000000</td>\n",
              "    </tr>\n",
              "    <tr>\n",
              "      <th>50%</th>\n",
              "      <td>638.500000</td>\n",
              "      <td>58454.500000</td>\n",
              "      <td>29451.040000</td>\n",
              "      <td>2.000000</td>\n",
              "    </tr>\n",
              "    <tr>\n",
              "      <th>75%</th>\n",
              "      <td>1138.750000</td>\n",
              "      <td>136573.250000</td>\n",
              "      <td>52114.760000</td>\n",
              "      <td>5.750000</td>\n",
              "    </tr>\n",
              "    <tr>\n",
              "      <th>max</th>\n",
              "      <td>3591.000000</td>\n",
              "      <td>936540.000000</td>\n",
              "      <td>558725.770000</td>\n",
              "      <td>41.000000</td>\n",
              "    </tr>\n",
              "  </tbody>\n",
              "</table>\n",
              "</div>\n",
              "      <button class=\"colab-df-convert\" onclick=\"convertToInteractive('df-3fb39de9-3f01-47f3-8ebb-d0ce8915a5d2')\"\n",
              "              title=\"Convert this dataframe to an interactive table.\"\n",
              "              style=\"display:none;\">\n",
              "        \n",
              "  <svg xmlns=\"http://www.w3.org/2000/svg\" height=\"24px\"viewBox=\"0 0 24 24\"\n",
              "       width=\"24px\">\n",
              "    <path d=\"M0 0h24v24H0V0z\" fill=\"none\"/>\n",
              "    <path d=\"M18.56 5.44l.94 2.06.94-2.06 2.06-.94-2.06-.94-.94-2.06-.94 2.06-2.06.94zm-11 1L8.5 8.5l.94-2.06 2.06-.94-2.06-.94L8.5 2.5l-.94 2.06-2.06.94zm10 10l.94 2.06.94-2.06 2.06-.94-2.06-.94-.94-2.06-.94 2.06-2.06.94z\"/><path d=\"M17.41 7.96l-1.37-1.37c-.4-.4-.92-.59-1.43-.59-.52 0-1.04.2-1.43.59L10.3 9.45l-7.72 7.72c-.78.78-.78 2.05 0 2.83L4 21.41c.39.39.9.59 1.41.59.51 0 1.02-.2 1.41-.59l7.78-7.78 2.81-2.81c.8-.78.8-2.07 0-2.86zM5.41 20L4 18.59l7.72-7.72 1.47 1.35L5.41 20z\"/>\n",
              "  </svg>\n",
              "      </button>\n",
              "      \n",
              "  <style>\n",
              "    .colab-df-container {\n",
              "      display:flex;\n",
              "      flex-wrap:wrap;\n",
              "      gap: 12px;\n",
              "    }\n",
              "\n",
              "    .colab-df-convert {\n",
              "      background-color: #E8F0FE;\n",
              "      border: none;\n",
              "      border-radius: 50%;\n",
              "      cursor: pointer;\n",
              "      display: none;\n",
              "      fill: #1967D2;\n",
              "      height: 32px;\n",
              "      padding: 0 0 0 0;\n",
              "      width: 32px;\n",
              "    }\n",
              "\n",
              "    .colab-df-convert:hover {\n",
              "      background-color: #E2EBFA;\n",
              "      box-shadow: 0px 1px 2px rgba(60, 64, 67, 0.3), 0px 1px 3px 1px rgba(60, 64, 67, 0.15);\n",
              "      fill: #174EA6;\n",
              "    }\n",
              "\n",
              "    [theme=dark] .colab-df-convert {\n",
              "      background-color: #3B4455;\n",
              "      fill: #D2E3FC;\n",
              "    }\n",
              "\n",
              "    [theme=dark] .colab-df-convert:hover {\n",
              "      background-color: #434B5C;\n",
              "      box-shadow: 0px 1px 3px 1px rgba(0, 0, 0, 0.15);\n",
              "      filter: drop-shadow(0px 1px 2px rgba(0, 0, 0, 0.3));\n",
              "      fill: #FFFFFF;\n",
              "    }\n",
              "  </style>\n",
              "\n",
              "      <script>\n",
              "        const buttonEl =\n",
              "          document.querySelector('#df-3fb39de9-3f01-47f3-8ebb-d0ce8915a5d2 button.colab-df-convert');\n",
              "        buttonEl.style.display =\n",
              "          google.colab.kernel.accessAllowed ? 'block' : 'none';\n",
              "\n",
              "        async function convertToInteractive(key) {\n",
              "          const element = document.querySelector('#df-3fb39de9-3f01-47f3-8ebb-d0ce8915a5d2');\n",
              "          const dataTable =\n",
              "            await google.colab.kernel.invokeFunction('convertToInteractive',\n",
              "                                                     [key], {});\n",
              "          if (!dataTable) return;\n",
              "\n",
              "          const docLinkHtml = 'Like what you see? Visit the ' +\n",
              "            '<a target=\"_blank\" href=https://colab.research.google.com/notebooks/data_table.ipynb>data table notebook</a>'\n",
              "            + ' to learn more about interactive tables.';\n",
              "          element.innerHTML = '';\n",
              "          dataTable['output_type'] = 'display_data';\n",
              "          await google.colab.output.renderOutput(dataTable, element);\n",
              "          const docLink = document.createElement('div');\n",
              "          docLink.innerHTML = docLinkHtml;\n",
              "          element.appendChild(docLink);\n",
              "        }\n",
              "      </script>\n",
              "    </div>\n",
              "  </div>\n",
              "  "
            ]
          },
          "metadata": {},
          "execution_count": 90
        }
      ]
    },
    {
      "cell_type": "markdown",
      "source": [
        "## How does the number of claims differ across locations?"
      ],
      "metadata": {
        "id": "H_DB_xJ_JbgF"
      }
    },
    {
      "cell_type": "code",
      "source": [
        "df.groupby('Location')['Claim ID'].count()"
      ],
      "metadata": {
        "colab": {
          "base_uri": "https://localhost:8080/"
        },
        "id": "uSpUzCAoM3FW",
        "outputId": "df5f1479-e225-4de9-9925-1e8962f00c09"
      },
      "execution_count": null,
      "outputs": [
        {
          "output_type": "execute_result",
          "data": {
            "text/plain": [
              "Location\n",
              "FORTALEZA    22\n",
              "NATAL        21\n",
              "RECIFE       25\n",
              "SAO LUIS     30\n",
              "Name: Claim ID, dtype: int64"
            ]
          },
          "metadata": {},
          "execution_count": 92
        }
      ]
    },
    {
      "cell_type": "code",
      "source": [
        "#Number of claims differ across locations\n",
        "sns.catplot(x = 'Location', data = df, kind = 'count')\n",
        "plt.show()"
      ],
      "metadata": {
        "colab": {
          "base_uri": "https://localhost:8080/",
          "height": 369
        },
        "id": "hs2Ba34pPFlv",
        "outputId": "1cc0f065-a992-4038-f0c8-e93c63c3e630"
      },
      "execution_count": null,
      "outputs": [
        {
          "output_type": "display_data",
          "data": {
            "text/plain": [
              "<Figure size 360x360 with 1 Axes>"
            ],
            "image/png": "[encoded data removed]"
          },
          "metadata": {
            "needs_background": "light"
          }
        }
      ]
    },
    {
      "cell_type": "markdown",
      "source": [
        "Insight : From the chart above, we can see that Sao Luis has the most number of claims with 30 claims, while Natal has the lowest of number of claims with 21 claims."
      ],
      "metadata": {
        "id": "A4dL0pUKYar6"
      }
    },
    {
      "cell_type": "markdown",
      "source": [
        "## What is the distribution of time to close claims?"
      ],
      "metadata": {
        "id": "Q7baxcpjJhgF"
      }
    },
    {
      "cell_type": "code",
      "source": [
        "#distribution of time to close claims\n",
        "sns.histplot(df, x= 'Time to Close', bins = 10)\n",
        "plt.show()"
      ],
      "metadata": {
        "colab": {
          "base_uri": "https://localhost:8080/",
          "height": 280
        },
        "id": "aZjCrgHPPwzQ",
        "outputId": "b6a45497-0841-4164-bf9a-da9943957fa3"
      },
      "execution_count": null,
      "outputs": [
        {
          "output_type": "display_data",
          "data": {
            "text/plain": [
              "<Figure size 432x288 with 1 Axes>"
            ],
            "image/png": "[encoded data removed]"
          },
          "metadata": {
            "needs_background": "light"
          }
        }
      ]
    },
    {
      "cell_type": "code",
      "source": [
        "sns.distplot(df['Time to Close'])\n",
        "plt.show()"
      ],
      "metadata": {
        "colab": {
          "base_uri": "https://localhost:8080/",
          "height": 334
        },
        "id": "IWosITK_TaJJ",
        "outputId": "99103d4b-0d64-4980-ecc3-f11139f64dae"
      },
      "execution_count": null,
      "outputs": [
        {
          "output_type": "stream",
          "name": "stderr",
          "text": [
            "/usr/local/lib/python3.7/dist-packages/seaborn/distributions.py:2619: FutureWarning: `distplot` is a deprecated function and will be removed in a future version. Please adapt your code to use either `displot` (a figure-level function with similar flexibility) or `histplot` (an axes-level function for histograms).\n",
            "  warnings.warn(msg, FutureWarning)\n"
          ]
        },
        {
          "output_type": "display_data",
          "data": {
            "text/plain": [
              "<Figure size 432x288 with 1 Axes>"
            ],
            "image/png": "[encoded data removed]"
          },
          "metadata": {
            "needs_background": "light"
          }
        }
      ]
    },
    {
      "cell_type": "markdown",
      "source": [
        "Insight : \n",
        "- From the histogram above we can see that most distributions of time to close claims belongs in the range 250-750 days, with median 638 days. \n",
        "- The minimum time to close the claims is 29 days\n",
        "- The maximum time to close the claims is 3591 days"
      ],
      "metadata": {
        "id": "OXjBMUYbYv1j"
      }
    },
    {
      "cell_type": "markdown",
      "source": [
        "## How does the average time to close claims differ by location?"
      ],
      "metadata": {
        "id": "lhiTHM3vKkfF"
      }
    },
    {
      "cell_type": "code",
      "source": [
        "df.groupby('Location')['Time to Close'].mean()"
      ],
      "metadata": {
        "colab": {
          "base_uri": "https://localhost:8080/"
        },
        "id": "xm79EWudT_Gp",
        "outputId": "afaea805-812b-4b56-c159-d23f219f3a10"
      },
      "execution_count": null,
      "outputs": [
        {
          "output_type": "execute_result",
          "data": {
            "text/plain": [
              "Location\n",
              "FORTALEZA     775.500000\n",
              "NATAL         581.142857\n",
              "RECIFE        860.680000\n",
              "SAO LUIS     1026.266667\n",
              "Name: Time to Close, dtype: float64"
            ]
          },
          "metadata": {},
          "execution_count": 72
        }
      ]
    },
    {
      "cell_type": "code",
      "source": [
        "#The average time to close claims differ by location\n",
        "meanlineprops = dict(linestyle='-', linewidth=1.5, color='white')\n",
        "sns.boxplot(x = 'Location', y = 'Time to Close', data = df, hue = 'Location', showmeans = True, meanline = True, meanprops = meanlineprops)\n",
        "plt.show()"
      ],
      "metadata": {
        "colab": {
          "base_uri": "https://localhost:8080/",
          "height": 279
        },
        "id": "XYgffxTcXklB",
        "outputId": "b95a84e8-73c0-4622-93c0-8d71a5694096"
      },
      "execution_count": null,
      "outputs": [
        {
          "output_type": "display_data",
          "data": {
            "text/plain": [
              "<Figure size 432x288 with 1 Axes>"
            ],
            "image/png": "[encoded data removed]"
          },
          "metadata": {
            "needs_background": "light"
          }
        }
      ]
    },
    {
      "cell_type": "markdown",
      "source": [
        "Insight : Comparing the four locations, SAO LUIS processed the most time to close claims on average and NATAL has the fewest time."
      ],
      "metadata": {
        "id": "hIVkkr5cfUSW"
      }
    },
    {
      "cell_type": "markdown",
      "source": [
        "## Pearson Correlation"
      ],
      "metadata": {
        "id": "53DQGR9csQkA"
      }
    },
    {
      "cell_type": "code",
      "source": [
        "#correlation between all the variable\n",
        "corrPearson = df.corr(method = \"pearson\")\n",
        "figure = plt.figure(figsize = (10, 8))\n",
        "sns.heatmap(corrPearson, annot = True, cmap = \"BuPu\", vmin = -1, vmax = +1)\n",
        "plt.title(\"Pearson Correlation Heatmap\")\n",
        "plt.xlabel(\"Columns\")\n",
        "plt.ylabel(\"Columns\")\n",
        "plt.show()"
      ],
      "metadata": {
        "colab": {
          "base_uri": "https://localhost:8080/",
          "height": 513
        },
        "id": "kDiIKhIAsbJp",
        "outputId": "de405a13-4cca-4de8-b81c-822ff48bf09b"
      },
      "execution_count": null,
      "outputs": [
        {
          "output_type": "display_data",
          "data": {
            "text/plain": [
              "<Figure size 720x576 with 2 Axes>"
            ],
            "image/png": "[encoded data removed]"
          },
          "metadata": {
            "needs_background": "light"
          }
        }
      ]
    },
    {
      "cell_type": "markdown",
      "source": [
        "From Pearson Correlation:\n",
        "- Time to close has weak correlations amongs all variable ; Claim Amount, Amount Paid, and Individual on Claim\n",
        "- Claim Amount and Amount Paid have strong correlation with Individuals on Claim."
      ],
      "metadata": {
        "id": "0l-BEn6UtBvH"
      }
    },
    {
      "cell_type": "code",
      "source": [
        "#Check the relationship between claim amount, time to close claims differ from every location\n",
        "sns.scatterplot(data = df, x = 'Time to Close', y = 'Claim Amount', hue = 'Location')\n",
        "plt.show()"
      ],
      "metadata": {
        "colab": {
          "base_uri": "https://localhost:8080/",
          "height": 279
        },
        "id": "rCr35HGhsgXI",
        "outputId": "fbfc645e-6a4a-49f8-8c34-502889a2dbed"
      },
      "execution_count": null,
      "outputs": [
        {
          "output_type": "display_data",
          "data": {
            "text/plain": [
              "<Figure size 432x288 with 1 Axes>"
            ],
            "image/png": "[encoded data removed]"
          },
          "metadata": {
            "needs_background": "light"
          }
        }
      ]
    },
    {
      "cell_type": "code",
      "source": [
        "#Check the relationship between claim amount, and individual on claims differ from every location\n",
        "sns.scatterplot(data = df, x = 'Time to Close', y = 'Individuals on Claim')\n",
        "plt.show()"
      ],
      "metadata": {
        "colab": {
          "base_uri": "https://localhost:8080/",
          "height": 279
        },
        "id": "FTkcOuENsuPY",
        "outputId": "de962732-7a87-4848-8f5b-a716f15db017"
      },
      "execution_count": null,
      "outputs": [
        {
          "output_type": "display_data",
          "data": {
            "text/plain": [
              "<Figure size 432x288 with 1 Axes>"
            ],
            "image/png": "[encoded data removed]"
          },
          "metadata": {
            "needs_background": "light"
          }
        }
      ]
    },
    {
      "cell_type": "code",
      "source": [
        "#Check the relationship between claim amount, and individual on claims differ from every location\n",
        "sns.scatterplot(data = df, x = 'Claim Amount', y = 'Individuals on Claim', hue = 'Location')\n",
        "plt.show()"
      ],
      "metadata": {
        "colab": {
          "base_uri": "https://localhost:8080/",
          "height": 279
        },
        "id": "77oXhflJtoUp",
        "outputId": "f3f6b21b-b5e8-4865-d542-d7448752d3ff"
      },
      "execution_count": null,
      "outputs": [
        {
          "output_type": "display_data",
          "data": {
            "text/plain": [
              "<Figure size 432x288 with 1 Axes>"
            ],
            "image/png": "[encoded data removed]"
          },
          "metadata": {
            "needs_background": "light"
          }
        }
      ]
    },
    {
      "cell_type": "code",
      "source": [
        "#check total of individuals on claim on different location\n",
        "df.groupby('Location')['Individuals on Claim'].sum()"
      ],
      "metadata": {
        "colab": {
          "base_uri": "https://localhost:8080/"
        },
        "id": "KzH8Rp8Fqh73",
        "outputId": "18f5468b-3e28-4fa9-bae3-8fad71a49729"
      },
      "execution_count": null,
      "outputs": [
        {
          "output_type": "execute_result",
          "data": {
            "text/plain": [
              "Location\n",
              "FORTALEZA     69\n",
              "NATAL        168\n",
              "RECIFE       106\n",
              "SAO LUIS     138\n",
              "Name: Individuals on Claim, dtype: int64"
            ]
          },
          "metadata": {},
          "execution_count": 102
        }
      ]
    },
    {
      "cell_type": "code",
      "source": [
        "#check total of claim amount and amount paid on different location\n",
        "df.groupby('Location')['Claim Amount','Amount Paid'].sum()"
      ],
      "metadata": {
        "colab": {
          "base_uri": "https://localhost:8080/",
          "height": 261
        },
        "id": "ZtrxJ7myrc6P",
        "outputId": "c9a37b08-cd94-4ce7-e40a-5632c6f4a3f6"
      },
      "execution_count": null,
      "outputs": [
        {
          "output_type": "stream",
          "name": "stderr",
          "text": [
            "/usr/local/lib/python3.7/dist-packages/ipykernel_launcher.py:1: FutureWarning: Indexing with multiple keys (implicitly converted to a tuple of keys) will be deprecated, use a list instead.\n",
            "  \"\"\"Entry point for launching an IPython kernel.\n"
          ]
        },
        {
          "output_type": "execute_result",
          "data": {
            "text/plain": [
              "           Claim Amount  Amount Paid\n",
              "Location                            \n",
              "FORTALEZA     1825506.0    871041.62\n",
              "NATAL         4045193.0   1858284.22\n",
              "RECIFE        2688374.0   1159152.70\n",
              "SAO LUIS      3490226.0   1839448.84"
            ],
            "text/html": [
              "\n",
              "  <div id=\"df-d2836df8-0da9-4165-8a8e-6a7beeaa9af7\">\n",
              "    <div class=\"colab-df-container\">\n",
              "      <div>\n",
              "<style scoped>\n",
              "    .dataframe tbody tr th:only-of-type {\n",
              "        vertical-align: middle;\n",
              "    }\n",
              "\n",
              "    .dataframe tbody tr th {\n",
              "        vertical-align: top;\n",
              "    }\n",
              "\n",
              "    .dataframe thead th {\n",
              "        text-align: right;\n",
              "    }\n",
              "</style>\n",
              "<table border=\"1\" class=\"dataframe\">\n",
              "  <thead>\n",
              "    <tr style=\"text-align: right;\">\n",
              "      <th></th>\n",
              "      <th>Claim Amount</th>\n",
              "      <th>Amount Paid</th>\n",
              "    </tr>\n",
              "    <tr>\n",
              "      <th>Location</th>\n",
              "      <th></th>\n",
              "      <th></th>\n",
              "    </tr>\n",
              "  </thead>\n",
              "  <tbody>\n",
              "    <tr>\n",
              "      <th>FORTALEZA</th>\n",
              "      <td>1825506.0</td>\n",
              "      <td>871041.62</td>\n",
              "    </tr>\n",
              "    <tr>\n",
              "      <th>NATAL</th>\n",
              "      <td>4045193.0</td>\n",
              "      <td>1858284.22</td>\n",
              "    </tr>\n",
              "    <tr>\n",
              "      <th>RECIFE</th>\n",
              "      <td>2688374.0</td>\n",
              "      <td>1159152.70</td>\n",
              "    </tr>\n",
              "    <tr>\n",
              "      <th>SAO LUIS</th>\n",
              "      <td>3490226.0</td>\n",
              "      <td>1839448.84</td>\n",
              "    </tr>\n",
              "  </tbody>\n",
              "</table>\n",
              "</div>\n",
              "      <button class=\"colab-df-convert\" onclick=\"convertToInteractive('df-d2836df8-0da9-4165-8a8e-6a7beeaa9af7')\"\n",
              "              title=\"Convert this dataframe to an interactive table.\"\n",
              "              style=\"display:none;\">\n",
              "        \n",
              "  <svg xmlns=\"http://www.w3.org/2000/svg\" height=\"24px\"viewBox=\"0 0 24 24\"\n",
              "       width=\"24px\">\n",
              "    <path d=\"M0 0h24v24H0V0z\" fill=\"none\"/>\n",
              "    <path d=\"M18.56 5.44l.94 2.06.94-2.06 2.06-.94-2.06-.94-.94-2.06-.94 2.06-2.06.94zm-11 1L8.5 8.5l.94-2.06 2.06-.94-2.06-.94L8.5 2.5l-.94 2.06-2.06.94zm10 10l.94 2.06.94-2.06 2.06-.94-2.06-.94-.94-2.06-.94 2.06-2.06.94z\"/><path d=\"M17.41 7.96l-1.37-1.37c-.4-.4-.92-.59-1.43-.59-.52 0-1.04.2-1.43.59L10.3 9.45l-7.72 7.72c-.78.78-.78 2.05 0 2.83L4 21.41c.39.39.9.59 1.41.59.51 0 1.02-.2 1.41-.59l7.78-7.78 2.81-2.81c.8-.78.8-2.07 0-2.86zM5.41 20L4 18.59l7.72-7.72 1.47 1.35L5.41 20z\"/>\n",
              "  </svg>\n",
              "      </button>\n",
              "      \n",
              "  <style>\n",
              "    .colab-df-container {\n",
              "      display:flex;\n",
              "      flex-wrap:wrap;\n",
              "      gap: 12px;\n",
              "    }\n",
              "\n",
              "    .colab-df-convert {\n",
              "      background-color: #E8F0FE;\n",
              "      border: none;\n",
              "      border-radius: 50%;\n",
              "      cursor: pointer;\n",
              "      display: none;\n",
              "      fill: #1967D2;\n",
              "      height: 32px;\n",
              "      padding: 0 0 0 0;\n",
              "      width: 32px;\n",
              "    }\n",
              "\n",
              "    .colab-df-convert:hover {\n",
              "      background-color: #E2EBFA;\n",
              "      box-shadow: 0px 1px 2px rgba(60, 64, 67, 0.3), 0px 1px 3px 1px rgba(60, 64, 67, 0.15);\n",
              "      fill: #174EA6;\n",
              "    }\n",
              "\n",
              "    [theme=dark] .colab-df-convert {\n",
              "      background-color: #3B4455;\n",
              "      fill: #D2E3FC;\n",
              "    }\n",
              "\n",
              "    [theme=dark] .colab-df-convert:hover {\n",
              "      background-color: #434B5C;\n",
              "      box-shadow: 0px 1px 3px 1px rgba(0, 0, 0, 0.15);\n",
              "      filter: drop-shadow(0px 1px 2px rgba(0, 0, 0, 0.3));\n",
              "      fill: #FFFFFF;\n",
              "    }\n",
              "  </style>\n",
              "\n",
              "      <script>\n",
              "        const buttonEl =\n",
              "          document.querySelector('#df-d2836df8-0da9-4165-8a8e-6a7beeaa9af7 button.colab-df-convert');\n",
              "        buttonEl.style.display =\n",
              "          google.colab.kernel.accessAllowed ? 'block' : 'none';\n",
              "\n",
              "        async function convertToInteractive(key) {\n",
              "          const element = document.querySelector('#df-d2836df8-0da9-4165-8a8e-6a7beeaa9af7');\n",
              "          const dataTable =\n",
              "            await google.colab.kernel.invokeFunction('convertToInteractive',\n",
              "                                                     [key], {});\n",
              "          if (!dataTable) return;\n",
              "\n",
              "          const docLinkHtml = 'Like what you see? Visit the ' +\n",
              "            '<a target=\"_blank\" href=https://colab.research.google.com/notebooks/data_table.ipynb>data table notebook</a>'\n",
              "            + ' to learn more about interactive tables.';\n",
              "          element.innerHTML = '';\n",
              "          dataTable['output_type'] = 'display_data';\n",
              "          await google.colab.output.renderOutput(dataTable, element);\n",
              "          const docLink = document.createElement('div');\n",
              "          docLink.innerHTML = docLinkHtml;\n",
              "          element.appendChild(docLink);\n",
              "        }\n",
              "      </script>\n",
              "    </div>\n",
              "  </div>\n",
              "  "
            ]
          },
          "metadata": {},
          "execution_count": 104
        }
      ]
    },
    {
      "cell_type": "markdown",
      "source": [
        "Insight :\n",
        "- Natal has the most indivuals on claims with 168 people, while Fortaleza has the lowest individual on claims with 69 people.\n",
        "- Furthermore,due to the large number of people claiming, the amount to be paid also increases. Natal has the most claim amount with R$ 4.045.193"
      ],
      "metadata": {
        "id": "wRPS8ssOuilK"
      }
    },
    {
      "cell_type": "markdown",
      "source": [
        "# Insight and Recommendation"
      ],
      "metadata": {
        "id": "GWg3UdehKpJG"
      }
    },
    {
      "cell_type": "markdown",
      "source": [
        "**Insight :**\n",
        "- Sao Luis has the most number of claims with 30 claims, while Natal has the lowest of number of claims with 21 claims.\n",
        "- The most distributions of time to close claims belongs in the range 250-750 days, with median 638 days. \n",
        "- The minimum time to close the claims is 29 days and the maximum time to close the claims is 3591 days\n",
        "- Comparing the four locations, SAO LUIS processed the most time to close claims on average and NATAL has the fewest time.\n",
        "- Natal has the most indivuals on claims with 168 people, while Fortaleza has the lowest individual on claims with 69 people.Furthermore,due to the large number of people claiming, the amount to be paid also increases. Natal has the most claim amount with R$ 4.045.193\n",
        "\n",
        "**Recommendation:**\n",
        "\n",
        "The legal team can conduct checks at various locations regarding the people who reported this incident. The priority locations to be checked are :\n",
        "- Sao Luis : Need to check out this location because it processed the most time to close the claims among other locations.\n",
        "- Natal : Although Natal has the fewest time to processed the claims, but the number of individual who claims this incident is the largest among other location. Natal also has the most claim amount and amount paid among other locations.\n"
      ],
      "metadata": {
        "id": "_PL0AfnlyHzi"
      }
    }
  ]
}